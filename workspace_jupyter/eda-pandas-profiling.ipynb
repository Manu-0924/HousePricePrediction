{
 "cells": [
  {
   "cell_type": "code",
   "execution_count": 4,
   "id": "6e030f5c",
   "metadata": {},
   "outputs": [
    {
     "data": {
      "text/html": [
       "\n",
       "        <iframe\n",
       "            width=\"100%\"\n",
       "            height=\"475\"\n",
       "            src=\"http://Manojs-Laptop.local:40000/dtale/iframe/1\"\n",
       "            frameborder=\"0\"\n",
       "            allowfullscreen\n",
       "            \n",
       "        ></iframe>\n",
       "        "
      ],
      "text/plain": [
       "<IPython.lib.display.IFrame at 0x176375590>"
      ]
     },
     "metadata": {},
     "output_type": "display_data"
    },
    {
     "data": {
      "text/plain": []
     },
     "execution_count": 4,
     "metadata": {},
     "output_type": "execute_result"
    }
   ],
   "source": [
    "import pandas as pd\n",
    "# from pandas_profiling import ProfileReport\n",
    "# from ydata_profiling import ProfileReport\n",
    "import dtale\n",
    "\n",
    "# Load your dataset\n",
    "df = pd.read_csv('data_download/gurgaon_properties_cleaned_v2.csv').drop_duplicates()\n",
    "\n",
    "# Create the ProfileReport object\n",
    "# profile = ProfileReport(df, title='Pandas Profiling Report', explorative=True)\n",
    "\n",
    "# # Generate the report\n",
    "# profile.to_file(\"output_report.html\")\n",
    "dtale.show(df)"
   ]
  },
  {
   "cell_type": "code",
   "execution_count": 2,
   "id": "bd076212",
   "metadata": {},
   "outputs": [
    {
     "name": "stdout",
     "output_type": "stream",
     "text": [
      "Collecting numba\n",
      "  Using cached numba-0.60.0-cp311-cp311-macosx_11_0_arm64.whl.metadata (2.7 kB)\n",
      "Requirement already satisfied: llvmlite<0.44,>=0.43.0dev0 in /opt/anaconda3/lib/python3.11/site-packages (from numba) (0.43.0)\n",
      "Requirement already satisfied: numpy<2.1,>=1.22 in /opt/anaconda3/lib/python3.11/site-packages (from numba) (1.26.4)\n",
      "Using cached numba-0.60.0-cp311-cp311-macosx_11_0_arm64.whl (2.6 MB)\n",
      "Installing collected packages: numba\n",
      "\u001b[31mERROR: pip's dependency resolver does not currently take into account all the packages that are installed. This behaviour is the source of the following dependency conflicts.\n",
      "ydata-profiling 4.9.0 requires visions[type_image_path]<0.7.7,>=0.7.5, but you have visions 0.7.4 which is incompatible.\u001b[0m\u001b[31m\n",
      "\u001b[0mSuccessfully installed numba-0.60.0\n"
     ]
    }
   ],
   "source": [
    "# !pip install pandas-profiling\n",
    "# !pip install dtale\n",
    "# !pip install numba\n"
   ]
  },
  {
   "cell_type": "code",
   "execution_count": 6,
   "id": "2a995801-1ff0-4f88-a838-a593930da1e2",
   "metadata": {},
   "outputs": [
    {
     "data": {
      "text/html": [
       "\n",
       "        <iframe\n",
       "            width=\"100%\"\n",
       "            height=\"475\"\n",
       "            src=\"http://Manojs-Laptop.local:40000/dtale/iframe/1\"\n",
       "            frameborder=\"0\"\n",
       "            allowfullscreen\n",
       "            \n",
       "        ></iframe>\n",
       "        "
      ],
      "text/plain": [
       "<IPython.lib.display.IFrame at 0x1771e6410>"
      ]
     },
     "metadata": {},
     "output_type": "display_data"
    },
    {
     "data": {
      "text/plain": []
     },
     "execution_count": 6,
     "metadata": {},
     "output_type": "execute_result"
    }
   ],
   "source": [
    "import dtale\n",
    "dtale.show(df)"
   ]
  },
  {
   "cell_type": "code",
   "execution_count": 6,
   "id": "88bedb41",
   "metadata": {},
   "outputs": [
    {
     "name": "stdout",
     "output_type": "stream",
     "text": [
      "Requirement already satisfied: numba in /opt/anaconda3/lib/python3.11/site-packages (0.60.0)\n",
      "Requirement already satisfied: llvmlite<0.44,>=0.43.0dev0 in /opt/anaconda3/lib/python3.11/site-packages (from numba) (0.43.0)\n",
      "Requirement already satisfied: numpy<2.1,>=1.22 in /opt/anaconda3/lib/python3.11/site-packages (from numba) (1.26.4)\n",
      "Note: you may need to restart the kernel to use updated packages.\n"
     ]
    }
   ],
   "source": [
    "# pip install --upgrade numba\n"
   ]
  },
  {
   "cell_type": "code",
   "execution_count": null,
   "id": "adae5242-35a7-49d3-9d16-30e218fdebe1",
   "metadata": {},
   "outputs": [
    {
     "name": "stdout",
     "output_type": "stream",
     "text": [
      "Found existing installation: ydata-profiling 4.9.0\n",
      "Uninstalling ydata-profiling-4.9.0:\n",
      "  Would remove:\n",
      "    /opt/anaconda3/bin/pandas_profiling\n",
      "    /opt/anaconda3/bin/ydata_profiling\n",
      "    /opt/anaconda3/lib/python3.11/site-packages/pandas_profiling/*\n",
      "    /opt/anaconda3/lib/python3.11/site-packages/ydata_profiling-4.9.0.dist-info/*\n",
      "    /opt/anaconda3/lib/python3.11/site-packages/ydata_profiling/*\n",
      "  Would not remove (might be manually added):\n",
      "    /opt/anaconda3/lib/python3.11/site-packages/pandas_profiling/config.py\n",
      "    /opt/anaconda3/lib/python3.11/site-packages/pandas_profiling/config_default.yaml\n",
      "    /opt/anaconda3/lib/python3.11/site-packages/pandas_profiling/config_minimal.yaml\n",
      "    /opt/anaconda3/lib/python3.11/site-packages/pandas_profiling/controller/__init__.py\n",
      "    /opt/anaconda3/lib/python3.11/site-packages/pandas_profiling/controller/console.py\n",
      "    /opt/anaconda3/lib/python3.11/site-packages/pandas_profiling/controller/pandas_decorator.py\n",
      "    /opt/anaconda3/lib/python3.11/site-packages/pandas_profiling/expectations_report.py\n",
      "    /opt/anaconda3/lib/python3.11/site-packages/pandas_profiling/model/__init__.py\n",
      "    /opt/anaconda3/lib/python3.11/site-packages/pandas_profiling/model/alerts.py\n",
      "    /opt/anaconda3/lib/python3.11/site-packages/pandas_profiling/model/correlations.py\n",
      "    /opt/anaconda3/lib/python3.11/site-packages/pandas_profiling/model/dataframe.py\n",
      "    /opt/anaconda3/lib/python3.11/site-packages/pandas_profiling/model/describe.py\n",
      "    /opt/anaconda3/lib/python3.11/site-packages/pandas_profiling/model/duplicates.py\n",
      "    /opt/anaconda3/lib/python3.11/site-packages/pandas_profiling/model/expectation_algorithms.py\n",
      "    /opt/anaconda3/lib/python3.11/site-packages/pandas_profiling/model/handler.py\n",
      "    /opt/anaconda3/lib/python3.11/site-packages/pandas_profiling/model/missing.py\n",
      "    /opt/anaconda3/lib/python3.11/site-packages/pandas_profiling/model/pairwise.py\n",
      "    /opt/anaconda3/lib/python3.11/site-packages/pandas_profiling/model/pandas/__init__.py\n",
      "    /opt/anaconda3/lib/python3.11/site-packages/pandas_profiling/model/pandas/correlations_pandas.py\n",
      "    /opt/anaconda3/lib/python3.11/site-packages/pandas_profiling/model/pandas/dataframe_pandas.py\n",
      "    /opt/anaconda3/lib/python3.11/site-packages/pandas_profiling/model/pandas/describe_boolean_pandas.py\n",
      "    /opt/anaconda3/lib/python3.11/site-packages/pandas_profiling/model/pandas/describe_categorical_pandas.py\n",
      "    /opt/anaconda3/lib/python3.11/site-packages/pandas_profiling/model/pandas/describe_counts_pandas.py\n",
      "    /opt/anaconda3/lib/python3.11/site-packages/pandas_profiling/model/pandas/describe_date_pandas.py\n",
      "    /opt/anaconda3/lib/python3.11/site-packages/pandas_profiling/model/pandas/describe_file_pandas.py\n",
      "    /opt/anaconda3/lib/python3.11/site-packages/pandas_profiling/model/pandas/describe_generic_pandas.py\n",
      "    /opt/anaconda3/lib/python3.11/site-packages/pandas_profiling/model/pandas/describe_image_pandas.py\n",
      "    /opt/anaconda3/lib/python3.11/site-packages/pandas_profiling/model/pandas/describe_numeric_pandas.py\n",
      "    /opt/anaconda3/lib/python3.11/site-packages/pandas_profiling/model/pandas/describe_path_pandas.py\n",
      "    /opt/anaconda3/lib/python3.11/site-packages/pandas_profiling/model/pandas/describe_supported_pandas.py\n",
      "    /opt/anaconda3/lib/python3.11/site-packages/pandas_profiling/model/pandas/describe_url_pandas.py\n",
      "    /opt/anaconda3/lib/python3.11/site-packages/pandas_profiling/model/pandas/duplicates_pandas.py\n",
      "    /opt/anaconda3/lib/python3.11/site-packages/pandas_profiling/model/pandas/missing_pandas.py\n",
      "    /opt/anaconda3/lib/python3.11/site-packages/pandas_profiling/model/pandas/sample_pandas.py\n",
      "    /opt/anaconda3/lib/python3.11/site-packages/pandas_profiling/model/pandas/summary_pandas.py\n",
      "    /opt/anaconda3/lib/python3.11/site-packages/pandas_profiling/model/pandas/table_pandas.py\n",
      "    /opt/anaconda3/lib/python3.11/site-packages/pandas_profiling/model/pandas/utils_pandas.py\n",
      "    /opt/anaconda3/lib/python3.11/site-packages/pandas_profiling/model/sample.py\n",
      "    /opt/anaconda3/lib/python3.11/site-packages/pandas_profiling/model/summarizer.py\n",
      "    /opt/anaconda3/lib/python3.11/site-packages/pandas_profiling/model/summary.py\n",
      "    /opt/anaconda3/lib/python3.11/site-packages/pandas_profiling/model/summary_algorithms.py\n",
      "    /opt/anaconda3/lib/python3.11/site-packages/pandas_profiling/model/table.py\n",
      "    /opt/anaconda3/lib/python3.11/site-packages/pandas_profiling/model/typeset.py\n",
      "    /opt/anaconda3/lib/python3.11/site-packages/pandas_profiling/model/typeset_relations.py\n",
      "    /opt/anaconda3/lib/python3.11/site-packages/pandas_profiling/profile_report.py\n",
      "    /opt/anaconda3/lib/python3.11/site-packages/pandas_profiling/report/__init__.py\n",
      "    /opt/anaconda3/lib/python3.11/site-packages/pandas_profiling/report/formatters.py\n",
      "    /opt/anaconda3/lib/python3.11/site-packages/pandas_profiling/report/presentation/__init__.py\n",
      "    /opt/anaconda3/lib/python3.11/site-packages/pandas_profiling/report/presentation/core/__init__.py\n",
      "    /opt/anaconda3/lib/python3.11/site-packages/pandas_profiling/report/presentation/core/alerts.py\n",
      "    /opt/anaconda3/lib/python3.11/site-packages/pandas_profiling/report/presentation/core/collapse.py\n",
      "    /opt/anaconda3/lib/python3.11/site-packages/pandas_profiling/report/presentation/core/container.py\n",
      "    /opt/anaconda3/lib/python3.11/site-packages/pandas_profiling/report/presentation/core/duplicate.py\n",
      "    /opt/anaconda3/lib/python3.11/site-packages/pandas_profiling/report/presentation/core/frequency_table.py\n",
      "    /opt/anaconda3/lib/python3.11/site-packages/pandas_profiling/report/presentation/core/frequency_table_small.py\n",
      "    /opt/anaconda3/lib/python3.11/site-packages/pandas_profiling/report/presentation/core/html.py\n",
      "    /opt/anaconda3/lib/python3.11/site-packages/pandas_profiling/report/presentation/core/image.py\n",
      "    /opt/anaconda3/lib/python3.11/site-packages/pandas_profiling/report/presentation/core/item_renderer.py\n",
      "    /opt/anaconda3/lib/python3.11/site-packages/pandas_profiling/report/presentation/core/renderable.py\n",
      "    /opt/anaconda3/lib/python3.11/site-packages/pandas_profiling/report/presentation/core/root.py\n",
      "    /opt/anaconda3/lib/python3.11/site-packages/pandas_profiling/report/presentation/core/sample.py\n",
      "    /opt/anaconda3/lib/python3.11/site-packages/pandas_profiling/report/presentation/core/table.py\n",
      "    /opt/anaconda3/lib/python3.11/site-packages/pandas_profiling/report/presentation/core/toggle_button.py\n",
      "    /opt/anaconda3/lib/python3.11/site-packages/pandas_profiling/report/presentation/core/variable.py\n",
      "    /opt/anaconda3/lib/python3.11/site-packages/pandas_profiling/report/presentation/core/variable_info.py\n",
      "    /opt/anaconda3/lib/python3.11/site-packages/pandas_profiling/report/presentation/flavours/__init__.py\n",
      "    /opt/anaconda3/lib/python3.11/site-packages/pandas_profiling/report/presentation/flavours/flavours.py\n",
      "    /opt/anaconda3/lib/python3.11/site-packages/pandas_profiling/report/presentation/flavours/html/__init__.py\n",
      "    /opt/anaconda3/lib/python3.11/site-packages/pandas_profiling/report/presentation/flavours/html/alerts.py\n",
      "    /opt/anaconda3/lib/python3.11/site-packages/pandas_profiling/report/presentation/flavours/html/collapse.py\n",
      "    /opt/anaconda3/lib/python3.11/site-packages/pandas_profiling/report/presentation/flavours/html/container.py\n",
      "    /opt/anaconda3/lib/python3.11/site-packages/pandas_profiling/report/presentation/flavours/html/duplicate.py\n",
      "    /opt/anaconda3/lib/python3.11/site-packages/pandas_profiling/report/presentation/flavours/html/frequency_table.py\n",
      "    /opt/anaconda3/lib/python3.11/site-packages/pandas_profiling/report/presentation/flavours/html/frequency_table_small.py\n",
      "    /opt/anaconda3/lib/python3.11/site-packages/pandas_profiling/report/presentation/flavours/html/html.py\n",
      "    /opt/anaconda3/lib/python3.11/site-packages/pandas_profiling/report/presentation/flavours/html/image.py\n",
      "    /opt/anaconda3/lib/python3.11/site-packages/pandas_profiling/report/presentation/flavours/html/root.py\n",
      "    /opt/anaconda3/lib/python3.11/site-packages/pandas_profiling/report/presentation/flavours/html/sample.py\n",
      "    /opt/anaconda3/lib/python3.11/site-packages/pandas_profiling/report/presentation/flavours/html/table.py\n",
      "    /opt/anaconda3/lib/python3.11/site-packages/pandas_profiling/report/presentation/flavours/html/templates.py\n",
      "    /opt/anaconda3/lib/python3.11/site-packages/pandas_profiling/report/presentation/flavours/html/templates/alerts.html\n",
      "    /opt/anaconda3/lib/python3.11/site-packages/pandas_profiling/report/presentation/flavours/html/templates/alerts/alert_constant.html\n",
      "    /opt/anaconda3/lib/python3.11/site-packages/pandas_profiling/report/presentation/flavours/html/templates/alerts/alert_constant_length.html\n",
      "    /opt/anaconda3/lib/python3.11/site-packages/pandas_profiling/report/presentation/flavours/html/templates/alerts/alert_duplicates.html\n",
      "    /opt/anaconda3/lib/python3.11/site-packages/pandas_profiling/report/presentation/flavours/html/templates/alerts/alert_empty.html\n",
      "    /opt/anaconda3/lib/python3.11/site-packages/pandas_profiling/report/presentation/flavours/html/templates/alerts/alert_high_cardinality.html\n",
      "    /opt/anaconda3/lib/python3.11/site-packages/pandas_profiling/report/presentation/flavours/html/templates/alerts/alert_high_correlation.html\n",
      "    /opt/anaconda3/lib/python3.11/site-packages/pandas_profiling/report/presentation/flavours/html/templates/alerts/alert_infinite.html\n",
      "    /opt/anaconda3/lib/python3.11/site-packages/pandas_profiling/report/presentation/flavours/html/templates/alerts/alert_missing.html\n",
      "    /opt/anaconda3/lib/python3.11/site-packages/pandas_profiling/report/presentation/flavours/html/templates/alerts/alert_skewed.html\n",
      "    /opt/anaconda3/lib/python3.11/site-packages/pandas_profiling/report/presentation/flavours/html/templates/alerts/alert_truncated.html\n",
      "    /opt/anaconda3/lib/python3.11/site-packages/pandas_profiling/report/presentation/flavours/html/templates/alerts/alert_type_date.html\n",
      "    /opt/anaconda3/lib/python3.11/site-packages/pandas_profiling/report/presentation/flavours/html/templates/alerts/alert_uniform.html\n",
      "    /opt/anaconda3/lib/python3.11/site-packages/pandas_profiling/report/presentation/flavours/html/templates/alerts/alert_unique.html\n",
      "    /opt/anaconda3/lib/python3.11/site-packages/pandas_profiling/report/presentation/flavours/html/templates/alerts/alert_unsupported.html\n",
      "    /opt/anaconda3/lib/python3.11/site-packages/pandas_profiling/report/presentation/flavours/html/templates/alerts/alert_zeros.html\n",
      "    /opt/anaconda3/lib/python3.11/site-packages/pandas_profiling/report/presentation/flavours/html/templates/collapse.html\n",
      "    /opt/anaconda3/lib/python3.11/site-packages/pandas_profiling/report/presentation/flavours/html/templates/diagram.html\n",
      "    /opt/anaconda3/lib/python3.11/site-packages/pandas_profiling/report/presentation/flavours/html/templates/duplicate.html\n",
      "    /opt/anaconda3/lib/python3.11/site-packages/pandas_profiling/report/presentation/flavours/html/templates/frequency_table.html\n",
      "    /opt/anaconda3/lib/python3.11/site-packages/pandas_profiling/report/presentation/flavours/html/templates/frequency_table_small.html\n",
      "    /opt/anaconda3/lib/python3.11/site-packages/pandas_profiling/report/presentation/flavours/html/templates/report.html\n",
      "    /opt/anaconda3/lib/python3.11/site-packages/pandas_profiling/report/presentation/flavours/html/templates/sample.html\n",
      "    /opt/anaconda3/lib/python3.11/site-packages/pandas_profiling/report/presentation/flavours/html/templates/sequence/batch_grid.html\n",
      "    /opt/anaconda3/lib/python3.11/site-packages/pandas_profiling/report/presentation/flavours/html/templates/sequence/grid.html\n",
      "    /opt/anaconda3/lib/python3.11/site-packages/pandas_profiling/report/presentation/flavours/html/templates/sequence/list.html\n",
      "    /opt/anaconda3/lib/python3.11/site-packages/pandas_profiling/report/presentation/flavours/html/templates/sequence/named_list.html\n",
      "    /opt/anaconda3/lib/python3.11/site-packages/pandas_profiling/report/presentation/flavours/html/templates/sequence/sections.html\n",
      "    /opt/anaconda3/lib/python3.11/site-packages/pandas_profiling/report/presentation/flavours/html/templates/sequence/select.html\n",
      "    /opt/anaconda3/lib/python3.11/site-packages/pandas_profiling/report/presentation/flavours/html/templates/sequence/tabs.html\n",
      "    /opt/anaconda3/lib/python3.11/site-packages/pandas_profiling/report/presentation/flavours/html/templates/table.html\n",
      "    /opt/anaconda3/lib/python3.11/site-packages/pandas_profiling/report/presentation/flavours/html/templates/toggle_button.html\n",
      "    /opt/anaconda3/lib/python3.11/site-packages/pandas_profiling/report/presentation/flavours/html/templates/variable.html\n",
      "    /opt/anaconda3/lib/python3.11/site-packages/pandas_profiling/report/presentation/flavours/html/templates/variable_info.html\n",
      "    /opt/anaconda3/lib/python3.11/site-packages/pandas_profiling/report/presentation/flavours/html/templates/wrapper/assets/bootstrap-theme.min.css\n",
      "    /opt/anaconda3/lib/python3.11/site-packages/pandas_profiling/report/presentation/flavours/html/templates/wrapper/assets/bootstrap.min.css\n",
      "    /opt/anaconda3/lib/python3.11/site-packages/pandas_profiling/report/presentation/flavours/html/templates/wrapper/assets/bootstrap.min.js\n",
      "    /opt/anaconda3/lib/python3.11/site-packages/pandas_profiling/report/presentation/flavours/html/templates/wrapper/assets/flatly.bootstrap.min.css\n",
      "    /opt/anaconda3/lib/python3.11/site-packages/pandas_profiling/report/presentation/flavours/html/templates/wrapper/assets/jquery-1.12.4.min.js\n",
      "    /opt/anaconda3/lib/python3.11/site-packages/pandas_profiling/report/presentation/flavours/html/templates/wrapper/assets/script.js\n",
      "    /opt/anaconda3/lib/python3.11/site-packages/pandas_profiling/report/presentation/flavours/html/templates/wrapper/assets/style.css\n",
      "    /opt/anaconda3/lib/python3.11/site-packages/pandas_profiling/report/presentation/flavours/html/templates/wrapper/assets/united.bootstrap.min.css\n",
      "    /opt/anaconda3/lib/python3.11/site-packages/pandas_profiling/report/presentation/flavours/html/templates/wrapper/footer.html\n",
      "    /opt/anaconda3/lib/python3.11/site-packages/pandas_profiling/report/presentation/flavours/html/templates/wrapper/javascript.html\n",
      "    /opt/anaconda3/lib/python3.11/site-packages/pandas_profiling/report/presentation/flavours/html/templates/wrapper/navigation.html\n",
      "    /opt/anaconda3/lib/python3.11/site-packages/pandas_profiling/report/presentation/flavours/html/templates/wrapper/style.html\n",
      "    /opt/anaconda3/lib/python3.11/site-packages/pandas_profiling/report/presentation/flavours/html/toggle_button.py\n",
      "    /opt/anaconda3/lib/python3.11/site-packages/pandas_profiling/report/presentation/flavours/html/variable.py\n",
      "    /opt/anaconda3/lib/python3.11/site-packages/pandas_profiling/report/presentation/flavours/html/variable_info.py\n",
      "    /opt/anaconda3/lib/python3.11/site-packages/pandas_profiling/report/presentation/flavours/widget/__init__.py\n",
      "    /opt/anaconda3/lib/python3.11/site-packages/pandas_profiling/report/presentation/flavours/widget/alerts.py\n",
      "    /opt/anaconda3/lib/python3.11/site-packages/pandas_profiling/report/presentation/flavours/widget/collapse.py\n",
      "    /opt/anaconda3/lib/python3.11/site-packages/pandas_profiling/report/presentation/flavours/widget/container.py\n",
      "    /opt/anaconda3/lib/python3.11/site-packages/pandas_profiling/report/presentation/flavours/widget/duplicate.py\n",
      "    /opt/anaconda3/lib/python3.11/site-packages/pandas_profiling/report/presentation/flavours/widget/frequency_table.py\n",
      "    /opt/anaconda3/lib/python3.11/site-packages/pandas_profiling/report/presentation/flavours/widget/frequency_table_small.py\n",
      "    /opt/anaconda3/lib/python3.11/site-packages/pandas_profiling/report/presentation/flavours/widget/html.py\n",
      "    /opt/anaconda3/lib/python3.11/site-packages/pandas_profiling/report/presentation/flavours/widget/image.py\n",
      "    /opt/anaconda3/lib/python3.11/site-packages/pandas_profiling/report/presentation/flavours/widget/notebook.py\n",
      "    /opt/anaconda3/lib/python3.11/site-packages/pandas_profiling/report/presentation/flavours/widget/root.py\n",
      "    /opt/anaconda3/lib/python3.11/site-packages/pandas_profiling/report/presentation/flavours/widget/sample.py\n",
      "    /opt/anaconda3/lib/python3.11/site-packages/pandas_profiling/report/presentation/flavours/widget/table.py\n",
      "    /opt/anaconda3/lib/python3.11/site-packages/pandas_profiling/report/presentation/flavours/widget/toggle_button.py\n",
      "    /opt/anaconda3/lib/python3.11/site-packages/pandas_profiling/report/presentation/flavours/widget/variable.py\n",
      "    /opt/anaconda3/lib/python3.11/site-packages/pandas_profiling/report/presentation/flavours/widget/variable_info.py\n",
      "    /opt/anaconda3/lib/python3.11/site-packages/pandas_profiling/report/presentation/frequency_table_utils.py\n",
      "    /opt/anaconda3/lib/python3.11/site-packages/pandas_profiling/report/structure/__init__.py\n",
      "    /opt/anaconda3/lib/python3.11/site-packages/pandas_profiling/report/structure/correlations.py\n",
      "    /opt/anaconda3/lib/python3.11/site-packages/pandas_profiling/report/structure/overview.py\n",
      "    /opt/anaconda3/lib/python3.11/site-packages/pandas_profiling/report/structure/report.py\n",
      "    /opt/anaconda3/lib/python3.11/site-packages/pandas_profiling/report/structure/variables/__init__.py\n",
      "    /opt/anaconda3/lib/python3.11/site-packages/pandas_profiling/report/structure/variables/render_boolean.py\n",
      "    /opt/anaconda3/lib/python3.11/site-packages/pandas_profiling/report/structure/variables/render_categorical.py\n",
      "    /opt/anaconda3/lib/python3.11/site-packages/pandas_profiling/report/structure/variables/render_common.py\n",
      "    /opt/anaconda3/lib/python3.11/site-packages/pandas_profiling/report/structure/variables/render_complex.py\n",
      "    /opt/anaconda3/lib/python3.11/site-packages/pandas_profiling/report/structure/variables/render_count.py\n",
      "    /opt/anaconda3/lib/python3.11/site-packages/pandas_profiling/report/structure/variables/render_date.py\n",
      "    /opt/anaconda3/lib/python3.11/site-packages/pandas_profiling/report/structure/variables/render_file.py\n",
      "    /opt/anaconda3/lib/python3.11/site-packages/pandas_profiling/report/structure/variables/render_generic.py\n",
      "    /opt/anaconda3/lib/python3.11/site-packages/pandas_profiling/report/structure/variables/render_image.py\n",
      "    /opt/anaconda3/lib/python3.11/site-packages/pandas_profiling/report/structure/variables/render_path.py\n",
      "    /opt/anaconda3/lib/python3.11/site-packages/pandas_profiling/report/structure/variables/render_real.py\n",
      "    /opt/anaconda3/lib/python3.11/site-packages/pandas_profiling/report/structure/variables/render_url.py\n",
      "    /opt/anaconda3/lib/python3.11/site-packages/pandas_profiling/serialize_report.py\n",
      "    /opt/anaconda3/lib/python3.11/site-packages/pandas_profiling/utils/__init__.py\n",
      "    /opt/anaconda3/lib/python3.11/site-packages/pandas_profiling/utils/cache.py\n",
      "    /opt/anaconda3/lib/python3.11/site-packages/pandas_profiling/utils/common.py\n",
      "    /opt/anaconda3/lib/python3.11/site-packages/pandas_profiling/utils/dataframe.py\n",
      "    /opt/anaconda3/lib/python3.11/site-packages/pandas_profiling/utils/imghdr_patch.py\n",
      "    /opt/anaconda3/lib/python3.11/site-packages/pandas_profiling/utils/notebook.py\n",
      "    /opt/anaconda3/lib/python3.11/site-packages/pandas_profiling/utils/paths.py\n",
      "    /opt/anaconda3/lib/python3.11/site-packages/pandas_profiling/utils/progress_bar.py\n",
      "    /opt/anaconda3/lib/python3.11/site-packages/pandas_profiling/version.py\n",
      "    /opt/anaconda3/lib/python3.11/site-packages/pandas_profiling/visualisation/__init__.py\n",
      "    /opt/anaconda3/lib/python3.11/site-packages/pandas_profiling/visualisation/context.py\n",
      "    /opt/anaconda3/lib/python3.11/site-packages/pandas_profiling/visualisation/missing.py\n",
      "    /opt/anaconda3/lib/python3.11/site-packages/pandas_profiling/visualisation/plot.py\n",
      "    /opt/anaconda3/lib/python3.11/site-packages/pandas_profiling/visualisation/utils.py\n",
      "Proceed (Y/n)? "
     ]
    }
   ],
   "source": [
    "# !pip uninstall ydata_profiling"
   ]
  },
  {
   "cell_type": "code",
   "execution_count": null,
   "id": "c89d7d96-9cd7-440f-83cb-2e1ef72fdbb6",
   "metadata": {},
   "outputs": [],
   "source": [
    "Y"
   ]
  },
  {
   "cell_type": "code",
   "execution_count": null,
   "id": "004a94e4-3ab0-44d3-bad3-57ce77c6f5f7",
   "metadata": {},
   "outputs": [],
   "source": []
  }
 ],
 "metadata": {
  "kernelspec": {
   "display_name": "Python 3 (ipykernel)",
   "language": "python",
   "name": "python3"
  },
  "language_info": {
   "codemirror_mode": {
    "name": "ipython",
    "version": 3
   },
   "file_extension": ".py",
   "mimetype": "text/x-python",
   "name": "python",
   "nbconvert_exporter": "python",
   "pygments_lexer": "ipython3",
   "version": "3.11.7"
  }
 },
 "nbformat": 4,
 "nbformat_minor": 5
}
